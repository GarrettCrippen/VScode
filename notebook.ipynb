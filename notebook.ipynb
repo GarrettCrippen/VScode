{
 "cells": [
  {
   "cell_type": "markdown",
   "source": [
    "Data Gathering\r\n",
    "===============\r\n",
    "I collected data from [Espn's world fame 100(2019)](https://www.espn.com/espn/feature/story/_/id/26113613/espn-world-fame-100-2019) using the selenium webdriver module\r\n",
    "\r\n"
   ],
   "metadata": {}
  },
  {
   "cell_type": "markdown",
   "source": [
    "<img src=\"Screenshots/c1.png\",width='480'>"
   ],
   "metadata": {}
  },
  {
   "cell_type": "code",
   "execution_count": 1,
   "source": [
    "import warnings\r\n",
    "import pandas as pd\r\n",
    "from athletes_df import *\r\n",
    "\r\n",
    "warnings.filterwarnings('ignore')\r\n",
    "\r\n",
    "df=create_df()\r\n",
    "df['total_breaches']=0\r\n",
    "df['unique_breaches_by_name']=0\r\n",
    "df['name'].replace('-','',regex=True,inplace = True)\r\n",
    "\r\n",
    "f= open('breaches.txt','r')\r\n",
    "for line in f.readlines():\r\n",
    "    breached_data = line.split(':')\r\n",
    "    df.set_index('name')\r\n",
    "    df.loc[df['name']==(breached_data[0].strip()),'total_breaches']+=int(breached_data[2].strip())\r\n",
    "    df.loc[df['name']==(breached_data[0].strip()),'unique_breaches_by_name']+=1\r\n",
    "f.close()\r\n",
    "print(df.head(100))"
   ],
   "outputs": [
    {
     "output_type": "stream",
     "name": "stdout",
     "text": [
      "                  name  rating  endorsements     followers              sport  \\\n",
      "0     cristianoronaldo     100   37000000.00  1.480000e+08             Soccer   \n",
      "1          lebronjames      47   52000000.00  4.530000e+08         Basketball   \n",
      "2          lionelmessi      54   28000000.00  1.031000e+09             Soccer   \n",
      "3               neymar      55   19000000.00  1.072000e+09             Soccer   \n",
      "4        conormcgregor     100   15000000.00  2.970000e+08                MMA   \n",
      "..                 ...     ...           ...           ...                ...   \n",
      "95   robertlewandowski       5          2.90  1.380000e+08             Soccer   \n",
      "96       robgronkowski       8    8000000.00  3.000000e+07  American Football   \n",
      "97  mashrafebinmortaza       1          7.57  8.500000e+07            Cricket   \n",
      "98         bryceharper       3   13000000.00  1.400000e+07           Baseball   \n",
      "99        blakegriffin       7    6000000.00  4.400000e+07         Basketball   \n",
      "\n",
      "          country  total_breaches  unique_breaches_by_name  \n",
      "0        Portugal            5631                       56  \n",
      "1   United States           12385                      163  \n",
      "2       Argentina            9105                      112  \n",
      "3          Brazil            9645                      194  \n",
      "4         Ireland              37                        9  \n",
      "..            ...             ...                      ...  \n",
      "95         Poland               8                        1  \n",
      "96  United States               6                        1  \n",
      "97     Bangladesh               0                        0  \n",
      "98  United States              95                       17  \n",
      "99  United States             278                       27  \n",
      "\n",
      "[100 rows x 8 columns]\n"
     ]
    }
   ],
   "metadata": {}
  },
  {
   "cell_type": "markdown",
   "source": [
    "Hypothesis\r\n",
    "==========\r\n",
    "\r\n"
   ],
   "metadata": {}
  },
  {
   "cell_type": "markdown",
   "source": [],
   "metadata": {}
  }
 ],
 "metadata": {
  "orig_nbformat": 4,
  "language_info": {
   "name": "python",
   "version": "3.9.6",
   "mimetype": "text/x-python",
   "codemirror_mode": {
    "name": "ipython",
    "version": 3
   },
   "pygments_lexer": "ipython3",
   "nbconvert_exporter": "python",
   "file_extension": ".py"
  },
  "kernelspec": {
   "name": "python3",
   "display_name": "Python 3.9.6 64-bit"
  },
  "interpreter": {
   "hash": "18241ba77550414ca384d49c5ac9bf75b7190066c742b105d5d9b42bfff16b3b"
  }
 },
 "nbformat": 4,
 "nbformat_minor": 2
}