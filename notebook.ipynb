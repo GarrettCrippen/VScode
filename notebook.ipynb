{
 "cells": [
  {
   "cell_type": "markdown",
   "source": [
    "Data Gathering\r\n",
    "===============\r\n",
    "I collected data from [Espn's world fame 100(2019)](https://www.espn.com/espn/feature/story/_/id/26113613/espn-world-fame-100-2019) which presents the 100 most famous athletes during 2019. using the selenium webdriver module because some of the html is js loaded, so if I used get from the requests module, it would show as empty. Afterwards, I did utlized beautiful soup to parse the html for thumbnails of the players.From the thumbnails, I was able to find, their name,'rating' calculated by ESPN, total endorsements, follower count,sport and country."
   ],
   "metadata": {}
  },
  {
   "cell_type": "markdown",
   "source": [
    "<img src=\"Screenshots/c1.png\" width='480'>"
   ],
   "metadata": {}
  },
  {
   "cell_type": "markdown",
   "source": [
    "A sha1 encoding of a password is a 20 byte hash value, used for checking authenticity. HIBP(HaveIbeenPwned) api provides a search by range by the first 5 bytes of the hash as the key and it outputs the remaining 15 bytes appended with a : and the number of data breaches corresponding to many passwords with the same key.\r\n",
    "![SegmentLocal](Screenshots/c3.gif \"segment\")"
   ],
   "metadata": {}
  },
  {
   "cell_type": "code",
   "execution_count": null,
   "source": [
    "import warnings\r\n",
    "import matplotlib\r\n",
    "\r\n",
    "import pandas as pd\r\n",
    "from athletes_df import *\r\n",
    "\r\n",
    "warnings.filterwarnings('ignore')\r\n",
    "\r\n",
    "df=create_df()\r\n",
    "df['total_breaches']=0\r\n",
    "df['unique_breaches_by_name']=0\r\n",
    "df['name'].replace('-','',regex=True,inplace = True)\r\n",
    "\r\n",
    "f= open('breaches.txt','r')\r\n",
    "for line in f.readlines():\r\n",
    "    breached_data = line.split(':')\r\n",
    "    df.set_index('name')\r\n",
    "    df.loc[df['name']==(breached_data[0].strip()),'total_breaches']+=int(breached_data[2].strip())\r\n",
    "    df.loc[df['name']==(breached_data[0].strip()),'unique_breaches_by_name']+=1\r\n",
    "f.close()\r\n",
    "print(df.head(100))"
   ],
   "outputs": [],
   "metadata": {}
  },
  {
   "cell_type": "markdown",
   "source": [
    "Hypothesis\r\n",
    "==========\r\n",
    "I think with higher followers and greater endorsements, the more total_data breaches there will be.\r\n"
   ],
   "metadata": {}
  },
  {
   "cell_type": "markdown",
   "source": [
    "Distribuition of total_breaches\r\n",
    "==============================="
   ],
   "metadata": {}
  },
  {
   "cell_type": "code",
   "execution_count": null,
   "source": [
    "print(df['total_breaches'].describe())\r\n",
    "df.plot(kind='bar',x='name',y='total_breaches',fontsize='25',figsize=(50,20),title='Distribution of total_breaches',legend = True)"
   ],
   "outputs": [],
   "metadata": {}
  },
  {
   "cell_type": "markdown",
   "source": [
    "Let's drop ninja because he is a very common dictionary word and he is more than 10 standard deviations above the mean."
   ],
   "metadata": {}
  },
  {
   "cell_type": "code",
   "execution_count": null,
   "source": [
    "df=df.drop(df.index[df['name']=='ninja'])"
   ],
   "outputs": [],
   "metadata": {}
  },
  {
   "cell_type": "markdown",
   "source": [
    "New Distribution of total_breaches\r\n",
    "=================================="
   ],
   "metadata": {}
  },
  {
   "cell_type": "code",
   "execution_count": null,
   "source": [
    "print(df['total_breaches'].describe())\r\n",
    "df.plot(kind='bar',x='name',y='total_breaches',fontsize='25',figsize=(50,20),title='New Distribution of total_breaches',legend = True)"
   ],
   "outputs": [],
   "metadata": {}
  },
  {
   "cell_type": "markdown",
   "source": [
    "Follower Count vs. Total_breaches\r\n",
    "=================================="
   ],
   "metadata": {}
  },
  {
   "cell_type": "code",
   "execution_count": null,
   "source": [
    "print(df['followers'].describe())\r\n",
    "df2=df.sort_values(by='followers',ascending=False)\r\n",
    "df2.plot(kind='bar',x='followers',y='total_breaches',fontsize='25',figsize=(50,20),title='Follower Count vs Total_breaches',legend = True)\r\n",
    "#print(df2[df2['followers'].isna()])"
   ],
   "outputs": [],
   "metadata": {}
  },
  {
   "cell_type": "markdown",
   "source": [
    "Endorsements vs. Total_breaches\r\n",
    "=================================="
   ],
   "metadata": {}
  },
  {
   "cell_type": "code",
   "execution_count": null,
   "source": [
    "print(df['endorsements'].describe())\r\n",
    "df3=df.sort_values(by='endorsements',ascending=False)\r\n",
    "df3.plot(kind='bar',x='endorsements',y='total_breaches',fontsize='25',figsize=(50,20),title='Endorsements vs Total_breaches',legend = True)"
   ],
   "outputs": [],
   "metadata": {}
  }
 ],
 "metadata": {
  "orig_nbformat": 4,
  "language_info": {
   "name": "python",
   "version": "3.7.1",
   "mimetype": "text/x-python",
   "codemirror_mode": {
    "name": "ipython",
    "version": 3
   },
   "pygments_lexer": "ipython3",
   "nbconvert_exporter": "python",
   "file_extension": ".py"
  },
  "kernelspec": {
   "name": "python3",
   "display_name": "Python 3.7.1 64-bit"
  },
  "interpreter": {
   "hash": "7ecd72385a9fa31fc82f83457b1757c613c10947a3805d55e820470c19790996"
  }
 },
 "nbformat": 4,
 "nbformat_minor": 2
}